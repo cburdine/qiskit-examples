{
 "cells": [
  {
   "cell_type": "markdown",
   "id": "e48ee6d4",
   "metadata": {},
   "source": [
    "# Elementary Quantum Gates\n",
    "---\n",
    "\n",
    "This notebook contains some examples of elementary quantum operations"
   ]
  },
  {
   "cell_type": "code",
   "execution_count": 1,
   "id": "e1ec93c3",
   "metadata": {},
   "outputs": [],
   "source": [
    "#Dependencies\n",
    "import numpy as np\n",
    "from qiskit import *\n",
    "from qiskit.visualization import plot_histogram\n",
    "%matplotlib inline\n",
    "\n",
    "#-----------------------------------------------------\n",
    "# Import the Aer backend qasm simulator:\n",
    "backend_sim = Aer.get_backend('qasm_simulator')\n",
    "\n",
    "# default number of shots to use:\n",
    "N_SHOTS = 100\n",
    "#-----------------------------------------------------"
   ]
  },
  {
   "cell_type": "markdown",
   "id": "f1384594",
   "metadata": {},
   "source": [
    "## The NOT Operator\n",
    "\n",
    "---\n",
    "\n",
    "The Hadamard operator has the form:\n",
    "\n",
    "$$\\mathbf{H} = \\begin{bmatrix}0 & 1 \\\\ 1 & 0\\end{bmatrix} \\quad\\text{ where  }\\quad \\mathbf{H}\\begin{bmatrix}c_0 \\\\ c_1\\end{bmatrix} = \\begin{bmatrix} c_1 \\\\ c_0\\end{bmatrix}$$\n",
    "\n",
    "It flips the 0 component of a state to 1 and the 1 component to 0."
   ]
  },
  {
   "cell_type": "code",
   "execution_count": 2,
   "id": "c3f95867",
   "metadata": {},
   "outputs": [
    {
     "name": "stdout",
     "output_type": "stream",
     "text": [
      "NOT (X) Operation:\n"
     ]
    },
    {
     "data": {
      "image/png": "[encoded data removed]",
      "text/plain": [
       "<Figure size 193.726x144.48 with 1 Axes>"
      ]
     },
     "execution_count": 2,
     "metadata": {},
     "output_type": "execute_result"
    }
   ],
   "source": [
    "# The initial circuit state is the conventional '0' state:\n",
    "X_circ = QuantumCircuit(1,1)\n",
    "X_circ.x(0)\n",
    "X_circ.measure(0,0)\n",
    "print('NOT (X) Operation:')\n",
    "X_circ.draw('mpl')"
   ]
  },
  {
   "cell_type": "code",
   "execution_count": 3,
   "id": "135c894d",
   "metadata": {},
   "outputs": [
    {
     "name": "stdout",
     "output_type": "stream",
     "text": [
      "Results of 100 samples from NOT gate:\n"
     ]
    },
    {
     "data": {
      "image/png": "[encoded data removed]",
      "text/plain": [
       "<Figure size 504x360 with 1 Axes>"
      ]
     },
     "execution_count": 3,
     "metadata": {},
     "output_type": "execute_result"
    }
   ],
   "source": [
    "job_sim = execute(X_circ, backend_sim, shots=N_SHOTS)\n",
    "print(f'Results of {N_SHOTS} samples from NOT gate:')\n",
    "plot_histogram(job_sim.result().get_counts())"
   ]
  },
  {
   "cell_type": "markdown",
   "id": "929af539",
   "metadata": {},
   "source": [
    "## The Hadamard Operator\n",
    "\n",
    "---\n",
    "\n",
    "The Hadamard operator has the form:\n",
    "\n",
    "$$\\mathbf{H} = \\frac{1}{\\sqrt{2}}\\begin{bmatrix}1 & 1 \\\\ 1 & -1\\end{bmatrix}\\quad \\text{ where} \\quad\\mathbf{H}\\begin{bmatrix}c_0 \\\\ c_1\\end{bmatrix} = \\begin{bmatrix} \\frac{c_0 + c_1}{\\sqrt{2}} \\\\ \\frac{c_0 - c_2}{\\sqrt{2}}\\end{bmatrix}$$\n",
    "\n",
    "It converts a classical bit state (0 or 1) into a superposition of both 0 and 1."
   ]
  },
  {
   "cell_type": "code",
   "execution_count": 4,
   "id": "ad6fa96f",
   "metadata": {},
   "outputs": [
    {
     "name": "stdout",
     "output_type": "stream",
     "text": [
      "Hadamard Operation:\n"
     ]
    },
    {
     "data": {
      "image/png": "[encoded data removed]",
      "text/plain": [
       "<Figure size 193.726x144.48 with 1 Axes>"
      ]
     },
     "execution_count": 4,
     "metadata": {},
     "output_type": "execute_result"
    }
   ],
   "source": [
    "# The initial circuit state is the conventional '0' state:\n",
    "H_circ = QuantumCircuit(1,1)\n",
    "H_circ.h(0)\n",
    "H_circ.measure(0,0)\n",
    "print('Hadamard Operation:')\n",
    "H_circ.draw('mpl')"
   ]
  },
  {
   "cell_type": "code",
   "execution_count": 5,
   "id": "63dc036d",
   "metadata": {},
   "outputs": [
    {
     "name": "stdout",
     "output_type": "stream",
     "text": [
      "Results of 100 samples from Hadamard gate:\n"
     ]
    },
    {
     "data": {
      "image/png": "[encoded data removed]",
      "text/plain": [
       "<Figure size 504x360 with 1 Axes>"
      ]
     },
     "execution_count": 5,
     "metadata": {},
     "output_type": "execute_result"
    }
   ],
   "source": [
    "job_sim = execute(H_circ, backend_sim, shots=N_SHOTS)\n",
    "print(f'Results of {N_SHOTS} samples from Hadamard gate:')\n",
    "plot_histogram(job_sim.result().get_counts())"
   ]
  },
  {
   "cell_type": "markdown",
   "id": "61baa10c",
   "metadata": {},
   "source": [
    "## The Conditional NOT (CNOT) Operator\n",
    "\n",
    "---\n",
    "\n",
    "The Conditional NOT (CNOT) operator is a 2-qubit operator with the form:\n",
    "\n",
    "$$\\mathbf{C^X_{01}} = \\begin{bmatrix}1 & 0 & 0 & 0 \\\\ 0 & 1 & 0 & 0 \\\\ 0 & 0 & 0 & 1 \\\\ 0 & 0 & 1 & 0\\end{bmatrix}\\quad \\text{ where} \\quad\\mathbf{C^X_{01}}\\begin{bmatrix}c_{00} \\\\ c_{01} \\\\ c_{11} \\\\ c_{10}\\end{bmatrix} = \\begin{bmatrix}c_{00} \\\\ c_{01} \\\\ c_{10} \\\\ c_{11}\\end{bmatrix}$$\n",
    "\n",
    "It operates on two qubits, switching the '1' and '0' amplitudes of the second qubit proportionate to the '1' amplitude of the first qubit."
   ]
  },
  {
   "cell_type": "code",
   "execution_count": 6,
   "id": "f7f53207",
   "metadata": {},
   "outputs": [
    {
     "name": "stdout",
     "output_type": "stream",
     "text": [
      "CNOT Operation:\n"
     ]
    },
    {
     "data": {
      "image/png": "[encoded data removed]",
      "text/plain": [
       "<Figure size 387.452x204.68 with 1 Axes>"
      ]
     },
     "execution_count": 6,
     "metadata": {},
     "output_type": "execute_result"
    }
   ],
   "source": [
    "# The initial circuit state is the conventional '0' state, \n",
    "# but we will flip the initial states to the '1' states using\n",
    "# 'X' gates to show how the gate works: \n",
    "Cx_circ = QuantumCircuit(2,2)\n",
    "Cx_circ.x([0,1])\n",
    "Cx_circ.barrier()\n",
    "Cx_circ.cx(0,1)\n",
    "Cx_circ.measure([0,1],[0,1])\n",
    "print('CNOT Operation:')\n",
    "Cx_circ.draw('mpl')"
   ]
  },
  {
   "cell_type": "code",
   "execution_count": 7,
   "id": "3cb2c5e0",
   "metadata": {},
   "outputs": [
    {
     "name": "stdout",
     "output_type": "stream",
     "text": [
      "Results of 100 samples from CNOT gate (with initial \"1\" states):\n"
     ]
    },
    {
     "data": {
      "image/png": "[encoded data removed]",
      "text/plain": [
       "<Figure size 504x360 with 1 Axes>"
      ]
     },
     "execution_count": 7,
     "metadata": {},
     "output_type": "execute_result"
    }
   ],
   "source": [
    "job_sim = execute(Cx_circ, backend_sim, shots=N_SHOTS)\n",
    "print(f'Results of {N_SHOTS} samples from CNOT gate (with initial \"1\" states):')\n",
    "plot_histogram(job_sim.result().get_counts())"
   ]
  },
  {
   "cell_type": "markdown",
   "id": "e22f0d28",
   "metadata": {},
   "source": [
    "## Quantum Entanglement With Elementary Operators:\n",
    "\n",
    "---\n",
    "\n",
    "We can achieve quantum entanglement using Hadamard operators and CNOT operators:\n"
   ]
  },
  {
   "cell_type": "code",
   "execution_count": 8,
   "id": "e2a9b820",
   "metadata": {},
   "outputs": [
    {
     "name": "stdout",
     "output_type": "stream",
     "text": [
      "Quantum entanglement example circuit:\n"
     ]
    },
    {
     "data": {
      "image/png": "[encoded data removed]",
      "text/plain": [
       "<Figure size 387.452x204.68 with 1 Axes>"
      ]
     },
     "execution_count": 8,
     "metadata": {},
     "output_type": "execute_result"
    }
   ],
   "source": [
    "ent_circ = QuantumCircuit(2,2)\n",
    "ent_circ.h([0,1])\n",
    "ent_circ.cx(0,1)\n",
    "ent_circ.h([0,1])\n",
    "ent_circ.measure([0,1],[0,1])\n",
    "print('Quantum entanglement example circuit:')\n",
    "ent_circ.draw('mpl')"
   ]
  },
  {
   "cell_type": "code",
   "execution_count": 9,
   "id": "d7004d48",
   "metadata": {},
   "outputs": [
    {
     "name": "stdout",
     "output_type": "stream",
     "text": [
      "Results of 100 samples from entanglement circuit:\n"
     ]
    },
    {
     "data": {
      "image/png": "[encoded data removed]",
      "text/plain": [
       "<Figure size 504x360 with 1 Axes>"
      ]
     },
     "execution_count": 9,
     "metadata": {},
     "output_type": "execute_result"
    }
   ],
   "source": [
    "job_sim = execute(ent_circ, backend_sim, shots=N_SHOTS)\n",
    "print(f'Results of {N_SHOTS} samples from entanglement circuit:')\n",
    "plot_histogram(job_sim.result().get_counts())"
   ]
  },
  {
   "cell_type": "code",
   "execution_count": null,
   "id": "97d979fc",
   "metadata": {},
   "outputs": [],
   "source": []
  },
  {
   "cell_type": "code",
   "execution_count": null,
   "id": "5cee2036",
   "metadata": {},
   "outputs": [],
   "source": []
  }
 ],
 "metadata": {
  "kernelspec": {
   "display_name": "Python 3",
   "language": "python",
   "name": "python3"
  },
  "language_info": {
   "codemirror_mode": {
    "name": "ipython",
    "version": 3
   },
   "file_extension": ".py",
   "mimetype": "text/x-python",
   "name": "python",
   "nbconvert_exporter": "python",
   "pygments_lexer": "ipython3",
   "version": "3.8.6"
  }
 },
 "nbformat": 4,
 "nbformat_minor": 5
}
