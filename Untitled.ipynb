{
 "cells": [
  {
   "cell_type": "markdown",
   "id": "b9c0d9e0",
   "metadata": {},
   "source": [
    "## The One-Bit \"Black Box\" Problem (Deutsch-Jozsa)\n",
    "---\n",
    "\n",
    "Suppose we have an unknown \"black box\" function that takes a single bit (either '1' or '0') as input and outputs a single bit. Our goal is to determine whether or not the function is constant or varies with its input.\n",
    "\n",
    "Let this function be $f : \\{ 0, 1 \\} \\rightarrow \\{0, 1\\}$.\n",
    "\n",
    "There are up to four distinct possibilities for $f$, two of which are constant and two of which are non-constant. If we run $f$ on a classical computer, we must evaluate $f$ a total of two times to know if it is constant (i.e. compute $f(0)$ and $f(1)$ and compare the results).\n",
    "\n",
    "If we run $f$ on a quantum computer, it turns out that we only need to perform **one evaluation** of $f$ to know if it is constant or non-constant!"
   ]
  },
  {
   "cell_type": "code",
   "execution_count": 38,
   "id": "420fedf4",
   "metadata": {},
   "outputs": [],
   "source": [
    "#Dependencies\n",
    "import numpy as np\n",
    "from qiskit import *\n",
    "%matplotlib inline"
   ]
  },
  {
   "cell_type": "code",
   "execution_count": 45,
   "id": "91aeae79",
   "metadata": {},
   "outputs": [
    {
     "name": "stdout",
     "output_type": "stream",
     "text": [
      "Black Box Function:\n",
      "black_box(0) = 1\n",
      "black_box(1) = 1\n"
     ]
    },
    {
     "data": {
      "image/png": "[encoded data removed]",
      "text/plain": [
       "<Figure size 146.652x144.48 with 1 Axes>"
      ]
     },
     "execution_count": 45,
     "metadata": {},
     "output_type": "execute_result"
    }
   ],
   "source": [
    "#---------------------------#\n",
    "# \"black box\" function:\n",
    "def black_box(x):\n",
    "    return 1\n",
    "#---------------------------#\n",
    "\n",
    "# compile the blackbox function into a quantum circuit:\n",
    "bb_circ = QuantumCircuit(2)\n",
    "if black_box(True) != black_box(False):\n",
    "    bb_circ.cx(0,1)\n",
    "if black_box(True):\n",
    "    bb_circ.x(1)\n",
    "    \n",
    "# print & draw the black box circuit:\n",
    "print('Black Box Function:')\n",
    "print(f'black_box(0) = {int(black_box(False))}')\n",
    "print(f'black_box(1) = {int(black_box(True))}')\n",
    "bb_circ.draw('mpl')"
   ]
  },
  {
   "cell_type": "code",
   "execution_count": 46,
   "id": "9d3a578c",
   "metadata": {},
   "outputs": [
    {
     "name": "stdout",
     "output_type": "stream",
     "text": [
      "Deutsch Oracle Circuit:\n"
     ]
    },
    {
     "data": {
      "image/png": "[encoded data removed]",
      "text/plain": [
       "<Figure size 387.452x204.68 with 1 Axes>"
      ]
     },
     "execution_count": 46,
     "metadata": {},
     "output_type": "execute_result"
    }
   ],
   "source": [
    "# Compose black box with a Deutsch Oracle: \n",
    "pre_circ = QuantumCircuit(2)\n",
    "pre_circ.x([0,1])\n",
    "pre_circ.h([0,1])\n",
    "pre_circ.draw('mpl')\n",
    "\n",
    "post_circ = QuantumCircuit(2,1)\n",
    "post_circ.h([0,1])\n",
    "post_circ.measure(0,0)\n",
    "\n",
    "deutsch_circ = pre_circ + bb_circ + post_circ\n",
    "print('Deutsch Oracle Circuit:')\n",
    "deutsch_circ.draw('mpl')"
   ]
  },
  {
   "cell_type": "code",
   "execution_count": 48,
   "id": "5ff35b69",
   "metadata": {},
   "outputs": [
    {
     "name": "stdout",
     "output_type": "stream",
     "text": [
      "Simulation results:\n",
      "{'1': 1}\n",
      "\n",
      "The observed outcome was the value 1\n",
      "\n",
      "(This result mens the \"black box\" is a CONSTANT function)\n"
     ]
    }
   ],
   "source": [
    "# Import the Aer backend qasm simulator:\n",
    "from qiskit import Aer\n",
    "backend_sim = Aer.get_backend('qasm_simulator')\n",
    "\n",
    "# simulate the circuit:\n",
    "job_sim = execute(deutsch_circ, backend_sim, shots=1)\n",
    "\n",
    "counts = job_sim.result().get_counts()\n",
    "print('Simulation results:')\n",
    "print(counts)\n",
    "print('\\nThe observed outcome was the value ' + list(counts.keys())[0])\n",
    "\n",
    "if '0' in counts:\n",
    "    print('\\n(This result means the \"black box\" is a NON-CONSTANT function)')\n",
    "if '1' in counts:\n",
    "    print('\\n(This result mens the \"black box\" is a CONSTANT function)')"
   ]
  },
  {
   "cell_type": "code",
   "execution_count": 49,
   "id": "bb7a9494",
   "metadata": {},
   "outputs": [
    {
     "data": {
      "image/png": "[encoded data removed]",
      "text/plain": [
       "<Figure size 504x360 with 1 Axes>"
      ]
     },
     "execution_count": 49,
     "metadata": {},
     "output_type": "execute_result"
    }
   ],
   "source": [
    "from qiskit.visualization import plot_histogram\n",
    "\n",
    "# plot a histogram of the outcome:\n",
    "plot_histogram(counts)"
   ]
  },
  {
   "cell_type": "code",
   "execution_count": null,
   "id": "df7e2ef2",
   "metadata": {},
   "outputs": [],
   "source": []
  }
 ],
 "metadata": {
  "kernelspec": {
   "display_name": "Python 3",
   "language": "python",
   "name": "python3"
  },
  "language_info": {
   "codemirror_mode": {
    "name": "ipython",
    "version": 3
   },
   "file_extension": ".py",
   "mimetype": "text/x-python",
   "name": "python",
   "nbconvert_exporter": "python",
   "pygments_lexer": "ipython3",
   "version": "3.8.6"
  }
 },
 "nbformat": 4,
 "nbformat_minor": 5
}
